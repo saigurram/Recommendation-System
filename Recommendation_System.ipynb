{
 "cells": [
  {
   "cell_type": "markdown",
   "metadata": {},
   "source": [
    "# Amazon Ratings Recommendation System "
   ]
  },
  {
   "cell_type": "markdown",
   "metadata": {},
   "source": [
    "## Define"
   ]
  },
  {
   "cell_type": "markdown",
   "metadata": {},
   "source": [
    "The Amazon beauty ratings dataset can be obtained from Kaggle - \n",
    "https://www.kaggle.com/skillsmuggler/amazon-ratings?select=ratings_Beauty.csv"
   ]
  },
  {
   "cell_type": "markdown",
   "metadata": {},
   "source": [
    "Dataset consists of Userid's, Ratings, Product id and timestamp. Dataset contains more than 2M records. \n",
    "\n",
    "Amazon, Netflix and a lot of organizations are currently relying on Recommendation systems to suggest products to a user. \n",
    "\n",
    "Recommendation systems can be based on content, item/user based and model based. \n",
    "\n",
    "Content based recommendation systems rely on analyzing the content and suggesting products that have similar content. \n",
    "The major drawback is only products that are very similar to each other are recommended. \n",
    "\n",
    "User based recommendation systems rely on understanding how one user is similar to the other based on the product ratings/products viewed etc. \n",
    "Major drawback is often users tend to change their opinions and if the user is new to the product then there is no data to support the recommendations. \n",
    "\n",
    "Item based recommendation systems rely on understanding how one item/product is related to the other. Based on their porpularity, rating etc. \n",
    "Major drawback is not all items have ratings and if the product is new then there is no data to support the recommendations. \n",
    "\n",
    "Model based recommendation systems rely on matrix factorization approach where all the relationships between users and items are condensed and converted into two separate vectors.\n",
    "This approach resolves the issues of user based and item based recommendation systems. \n"
   ]
  },
  {
   "cell_type": "markdown",
   "metadata": {},
   "source": [
    "## Objective\n",
    "\n",
    "Create a simple recommendation system."
   ]
  },
  {
   "cell_type": "code",
   "execution_count": 1,
   "metadata": {},
   "outputs": [],
   "source": [
    "#importing libraries \n",
    "import pandas as pd\n",
    "import numpy as np\n",
    "import matplotlib.pyplot as plt\n",
    "%matplotlib inline\n",
    "import sklearn.metrics.pairwise as pw\n",
    "from scipy import sparse\n",
    "from sklearn.metrics.pairwise import pairwise_distances"
   ]
  },
  {
   "cell_type": "code",
   "execution_count": 2,
   "metadata": {},
   "outputs": [],
   "source": [
    "import warnings\n",
    "warnings.filterwarnings('ignore')\n",
    "\n",
    "__author__ = \"Sai Jyothi Gurram\"\n",
    "__email__ = \"jyothisai1993@gmail.com\""
   ]
  },
  {
   "cell_type": "markdown",
   "metadata": {},
   "source": [
    "All the necessary libraries are imported. "
   ]
  },
  {
   "cell_type": "markdown",
   "metadata": {},
   "source": [
    "## Loading the data"
   ]
  },
  {
   "cell_type": "code",
   "execution_count": 3,
   "metadata": {},
   "outputs": [],
   "source": [
    "#loading the data into a dataframe \n",
    "ratings = pd.read_csv('ratings_Beauty.csv')"
   ]
  },
  {
   "cell_type": "code",
   "execution_count": 4,
   "metadata": {},
   "outputs": [
    {
     "data": {
      "text/plain": [
       "(2023070, 4)"
      ]
     },
     "execution_count": 4,
     "metadata": {},
     "output_type": "execute_result"
    }
   ],
   "source": [
    "#checking the size of the data \n",
    "ratings.shape"
   ]
  },
  {
   "cell_type": "code",
   "execution_count": 5,
   "metadata": {},
   "outputs": [
    {
     "data": {
      "text/html": [
       "<div>\n",
       "<style scoped>\n",
       "    .dataframe tbody tr th:only-of-type {\n",
       "        vertical-align: middle;\n",
       "    }\n",
       "\n",
       "    .dataframe tbody tr th {\n",
       "        vertical-align: top;\n",
       "    }\n",
       "\n",
       "    .dataframe thead th {\n",
       "        text-align: right;\n",
       "    }\n",
       "</style>\n",
       "<table border=\"1\" class=\"dataframe\">\n",
       "  <thead>\n",
       "    <tr style=\"text-align: right;\">\n",
       "      <th></th>\n",
       "      <th>UserId</th>\n",
       "      <th>ProductId</th>\n",
       "      <th>Rating</th>\n",
       "      <th>Timestamp</th>\n",
       "    </tr>\n",
       "  </thead>\n",
       "  <tbody>\n",
       "    <tr>\n",
       "      <th>0</th>\n",
       "      <td>A39HTATAQ9V7YF</td>\n",
       "      <td>0205616461</td>\n",
       "      <td>5.0</td>\n",
       "      <td>1369699200</td>\n",
       "    </tr>\n",
       "    <tr>\n",
       "      <th>1</th>\n",
       "      <td>A3JM6GV9MNOF9X</td>\n",
       "      <td>0558925278</td>\n",
       "      <td>3.0</td>\n",
       "      <td>1355443200</td>\n",
       "    </tr>\n",
       "    <tr>\n",
       "      <th>2</th>\n",
       "      <td>A1Z513UWSAAO0F</td>\n",
       "      <td>0558925278</td>\n",
       "      <td>5.0</td>\n",
       "      <td>1404691200</td>\n",
       "    </tr>\n",
       "    <tr>\n",
       "      <th>3</th>\n",
       "      <td>A1WMRR494NWEWV</td>\n",
       "      <td>0733001998</td>\n",
       "      <td>4.0</td>\n",
       "      <td>1382572800</td>\n",
       "    </tr>\n",
       "    <tr>\n",
       "      <th>4</th>\n",
       "      <td>A3IAAVS479H7M7</td>\n",
       "      <td>0737104473</td>\n",
       "      <td>1.0</td>\n",
       "      <td>1274227200</td>\n",
       "    </tr>\n",
       "  </tbody>\n",
       "</table>\n",
       "</div>"
      ],
      "text/plain": [
       "           UserId   ProductId  Rating   Timestamp\n",
       "0  A39HTATAQ9V7YF  0205616461     5.0  1369699200\n",
       "1  A3JM6GV9MNOF9X  0558925278     3.0  1355443200\n",
       "2  A1Z513UWSAAO0F  0558925278     5.0  1404691200\n",
       "3  A1WMRR494NWEWV  0733001998     4.0  1382572800\n",
       "4  A3IAAVS479H7M7  0737104473     1.0  1274227200"
      ]
     },
     "execution_count": 5,
     "metadata": {},
     "output_type": "execute_result"
    }
   ],
   "source": [
    "#checking the columns\n",
    "ratings.head()"
   ]
  },
  {
   "cell_type": "markdown",
   "metadata": {},
   "source": [
    "## Cleaning the data "
   ]
  },
  {
   "cell_type": "code",
   "execution_count": 7,
   "metadata": {},
   "outputs": [],
   "source": [
    "#removing timestamp from the ratings dataframe \n",
    "ratings.drop(['Timestamp'],axis =1,inplace = True)"
   ]
  },
  {
   "cell_type": "markdown",
   "metadata": {},
   "source": [
    "Dropping the timestamp column for easier analysis "
   ]
  },
  {
   "cell_type": "code",
   "execution_count": 8,
   "metadata": {},
   "outputs": [
    {
     "data": {
      "text/plain": [
       "UserId       False\n",
       "ProductId    False\n",
       "Rating       False\n",
       "dtype: bool"
      ]
     },
     "execution_count": 8,
     "metadata": {},
     "output_type": "execute_result"
    }
   ],
   "source": [
    "#checking for null values \n",
    "ratings.isnull().any()"
   ]
  },
  {
   "cell_type": "markdown",
   "metadata": {},
   "source": [
    "Clearly there are no null values in the data "
   ]
  },
  {
   "cell_type": "code",
   "execution_count": 9,
   "metadata": {},
   "outputs": [
    {
     "data": {
      "text/plain": [
       "(2023070, 3)"
      ]
     },
     "execution_count": 9,
     "metadata": {},
     "output_type": "execute_result"
    }
   ],
   "source": [
    "#removing duplicates\n",
    "ratings.drop_duplicates().shape"
   ]
  },
  {
   "cell_type": "markdown",
   "metadata": {},
   "source": [
    "Clearly there are no duplicates as well"
   ]
  },
  {
   "cell_type": "markdown",
   "metadata": {},
   "source": [
    "## Data Exploration "
   ]
  },
  {
   "cell_type": "code",
   "execution_count": 10,
   "metadata": {},
   "outputs": [
    {
     "data": {
      "text/plain": [
       "count    2.023070e+06\n",
       "mean     4.149036e+00\n",
       "std      1.311505e+00\n",
       "min      1.000000e+00\n",
       "25%      4.000000e+00\n",
       "50%      5.000000e+00\n",
       "75%      5.000000e+00\n",
       "max      5.000000e+00\n",
       "Name: Rating, dtype: float64"
      ]
     },
     "execution_count": 10,
     "metadata": {},
     "output_type": "execute_result"
    }
   ],
   "source": [
    "#understanding average rating \n",
    "ratings['Rating'].describe()"
   ]
  },
  {
   "cell_type": "markdown",
   "metadata": {},
   "source": [
    "Average rating is 4.1 "
   ]
  },
  {
   "cell_type": "code",
   "execution_count": 11,
   "metadata": {},
   "outputs": [
    {
     "data": {
      "text/plain": [
       "<matplotlib.axes._subplots.AxesSubplot at 0x2269a5d0c88>"
      ]
     },
     "execution_count": 11,
     "metadata": {},
     "output_type": "execute_result"
    },
    {
     "data": {
      "image/png": "[encoded data removed]",
      "text/plain": [
       "<Figure size 432x288 with 1 Axes>"
      ]
     },
     "metadata": {
      "needs_background": "light"
     },
     "output_type": "display_data"
    }
   ],
   "source": [
    "#rating distribution \n",
    "width = 0.35\n",
    "ratings.groupby('Rating')['UserId'].count().plot(kind = \"bar\", width = width)"
   ]
  },
  {
   "cell_type": "markdown",
   "metadata": {},
   "source": [
    "Clearly most of the users gave 5 rating"
   ]
  },
  {
   "cell_type": "code",
   "execution_count": 12,
   "metadata": {},
   "outputs": [],
   "source": [
    "#creating dataframes for average rating and user count\n",
    "product_mean  = ratings.groupby('ProductId')['Rating'].mean()\n",
    "product_count = ratings.groupby('ProductId')['Rating'].count()"
   ]
  },
  {
   "cell_type": "code",
   "execution_count": 13,
   "metadata": {},
   "outputs": [],
   "source": [
    "#combining mean and value counts at product level\n",
    "product = pd.merge(product_mean, product_count, on ='ProductId')"
   ]
  },
  {
   "cell_type": "code",
   "execution_count": 14,
   "metadata": {},
   "outputs": [],
   "source": [
    "#sorting the user counts \n",
    "product = product.sort_values(['Rating_y'] , ascending= False)"
   ]
  },
  {
   "cell_type": "code",
   "execution_count": 15,
   "metadata": {},
   "outputs": [
    {
     "data": {
      "text/plain": [
       "<matplotlib.axes._subplots.AxesSubplot at 0x2269acd2470>"
      ]
     },
     "execution_count": 15,
     "metadata": {},
     "output_type": "execute_result"
    },
    {
     "data": {
      "image/png": "[encoded data removed]",
      "text/plain": [
       "<Figure size 1080x720 with 2 Axes>"
      ]
     },
     "metadata": {
      "needs_background": "light"
     },
     "output_type": "display_data"
    }
   ],
   "source": [
    "#plotting a graph between count and rating \n",
    "width = 0.35\n",
    "fig, ax1 = plt.subplots(figsize=(15, 10))\n",
    "product['Rating_y'].head(10).plot(kind = \"bar\", width = width)\n",
    "product['Rating_x'].head(10).plot(kind = 'line', marker = 'd',secondary_y=True)"
   ]
  },
  {
   "cell_type": "markdown",
   "metadata": {},
   "source": [
    "Even though the first two products have the highest number of ratings, the average rating is less compared to other products"
   ]
  },
  {
   "cell_type": "code",
   "execution_count": 16,
   "metadata": {},
   "outputs": [],
   "source": [
    "#creating new dataframe with user counts\n",
    "df = ratings['ProductId'].value_counts()"
   ]
  },
  {
   "cell_type": "code",
   "execution_count": 17,
   "metadata": {},
   "outputs": [],
   "source": [
    "#subsetting the data for computational reasons \n",
    "#selecting top 100 products \n",
    "appended_data = []\n",
    "for i in df.head(100).index:\n",
    "        rating = ratings[ratings['ProductId'] == i]  \n",
    "        appended_data.append(rating)\n",
    "        \n",
    "appended_data = pd.concat(appended_data)"
   ]
  },
  {
   "cell_type": "code",
   "execution_count": 18,
   "metadata": {},
   "outputs": [
    {
     "data": {
      "text/plain": [
       "(107098, 3)"
      ]
     },
     "execution_count": 18,
     "metadata": {},
     "output_type": "execute_result"
    }
   ],
   "source": [
    "#checking the size of the data \n",
    "appended_data.shape"
   ]
  },
  {
   "cell_type": "markdown",
   "metadata": {},
   "source": [
    "Converting the subsetted data into a Pivot table "
   ]
  },
  {
   "cell_type": "code",
   "execution_count": 19,
   "metadata": {},
   "outputs": [],
   "source": [
    "#converting the dataframe into pivot table \n",
    "pivot = appended_data.pivot_table(values='Rating', index='UserId', columns='ProductId')\n",
    "#transposing the data\n",
    "pivot_product = pivot.T"
   ]
  },
  {
   "cell_type": "code",
   "execution_count": 20,
   "metadata": {},
   "outputs": [
    {
     "name": "stdout",
     "output_type": "stream",
     "text": [
      "(99361, 100)\n",
      "(100, 99361)\n"
     ]
    }
   ],
   "source": [
    "#understanding the shapes of the dataframes\n",
    "print(pivot.shape)\n",
    "print(pivot_product.shape)"
   ]
  },
  {
   "cell_type": "code",
   "execution_count": 21,
   "metadata": {},
   "outputs": [],
   "source": [
    "#similarity matrix function \n",
    "def similarity_matrix(data,i):\n",
    "    sparse_pivot = sparse.csr_matrix(data.fillna(0))\n",
    "    #calculating the cosine similarity between product to product \n",
    "    recommender = pw.cosine_similarity(sparse_pivot)\n",
    "    #creating dataframe \n",
    "    recommender_df = pd.DataFrame(recommender, \n",
    "                                  columns=data.index,\n",
    "                                  index=data.index)\n",
    "    #randomly chose this product \n",
    "    df = pd.DataFrame(recommender_df.iloc[i].sort_values(ascending=False))\n",
    "    df.reset_index(level=0, inplace=True)\n",
    "    df.columns = ['title','similarity']\n",
    "    #recommend top 4 products \n",
    "    print('Recommended Products for product:',df['title'].head(1))\n",
    "    print('\\n are:',df['title'].head(5))\n",
    "      "
   ]
  },
  {
   "cell_type": "code",
   "execution_count": 22,
   "metadata": {},
   "outputs": [
    {
     "name": "stdout",
     "output_type": "stream",
     "text": [
      "Recommended Products for product: 0    B0009FHJRS\n",
      "Name: title, dtype: object\n",
      "\n",
      " are: 0    B0009FHJRS\n",
      "1    B002JPJ2ZS\n",
      "2    B000UVZU1S\n",
      "3    B003UH0528\n",
      "4    B006L1DNWY\n",
      "Name: title, dtype: object\n"
     ]
    }
   ],
   "source": [
    "# calling similarity matrix \n",
    "similarity_matrix(pivot_product,10)"
   ]
  },
  {
   "cell_type": "markdown",
   "metadata": {},
   "source": [
    "For the product B0009FHJRS the products  B002JPJ2ZS, B000UVZU1S, B003UH0528, B006L1DNWY are recommended "
   ]
  },
  {
   "cell_type": "code",
   "execution_count": 26,
   "metadata": {},
   "outputs": [],
   "source": [
    "#similarity matrix function \n",
    "from sklearn.decomposition import TruncatedSVD\n",
    "def SVD_similarity_matrix(data,i):\n",
    "    sparse_pivot = sparse.csr_matrix(data.fillna(0))\n",
    "    #selecting 10 components \n",
    "    svd = TruncatedSVD(n_components=10)\n",
    "    decomposed_matrix = svd.fit_transform(sparse_pivot)\n",
    "    #calculating correlations\n",
    "    correlation_matrix = np.corrcoef(decomposed_matrix)\n",
    "    #creating dataframe \n",
    "    SVD_corr = pd.DataFrame(correlation_matrix, \n",
    "                                  columns=data.index,\n",
    "                                  index=data.index)\n",
    "    #randomly chose this product \n",
    "    df = pd.DataFrame(SVD_corr.iloc[i].sort_values(ascending=False))\n",
    "    df.reset_index(level=0, inplace=True)\n",
    "    df.columns = ['title','similarity']\n",
    "    #recommend top 4 products \n",
    "    print('Recommended Products for product:',df['title'].head(1))\n",
    "    print('\\n are:',df['title'].head(5))\n",
    "    \n",
    "    "
   ]
  },
  {
   "cell_type": "code",
   "execution_count": 27,
   "metadata": {},
   "outputs": [
    {
     "name": "stdout",
     "output_type": "stream",
     "text": [
      "Recommended Products for product: 0    B0009FHJRS\n",
      "Name: title, dtype: object\n",
      "\n",
      " are: 0    B0009FHJRS\n",
      "1    B0009OAGXI\n",
      "2    B000L596FE\n",
      "3    B00121UVU0\n",
      "4    B00639DLV2\n",
      "Name: title, dtype: object\n"
     ]
    }
   ],
   "source": [
    "# calling SVD similarity matrix \n",
    "SVD_similarity_matrix(pivot_product,10)"
   ]
  },
  {
   "cell_type": "markdown",
   "metadata": {},
   "source": [
    "Based on the model for product B0009FHJRS : B0009OAGXI, B000L596FE, B00121UVU0, B00639DLV2 are recommended. "
   ]
  },
  {
   "cell_type": "markdown",
   "metadata": {},
   "source": [
    "## Summary"
   ]
  },
  {
   "cell_type": "markdown",
   "metadata": {},
   "source": [
    "The model based recommendation system can now be used to recommend products. \n",
    "The sparsity and scalability issue of user based/item based systems has been resolved in model based system. "
   ]
  },
  {
   "cell_type": "code",
   "execution_count": null,
   "metadata": {},
   "outputs": [],
   "source": []
  }
 ],
 "metadata": {
  "kernelspec": {
   "display_name": "Python 3",
   "language": "python",
   "name": "python3"
  },
  "language_info": {
   "codemirror_mode": {
    "name": "ipython",
    "version": 3
   },
   "file_extension": ".py",
   "mimetype": "text/x-python",
   "name": "python",
   "nbconvert_exporter": "python",
   "pygments_lexer": "ipython3",
   "version": "3.7.3"
  }
 },
 "nbformat": 4,
 "nbformat_minor": 2
}
